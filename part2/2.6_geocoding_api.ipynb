{
 "cells": [
  {
   "cell_type": "code",
   "execution_count": 2,
   "metadata": {},
   "outputs": [
    {
     "name": "stdout",
     "output_type": "stream",
     "text": [
      "Requirement already satisfied: python-dotenv in c:\\python_src\\rawon.venv\\lib\\site-packages (1.1.1)\n",
      "Note: you may need to restart the kernel to use updated packages.\n"
     ]
    }
   ],
   "source": [
    "%pip install python-dotenv"
   ]
  },
  {
   "cell_type": "code",
   "execution_count": 3,
   "metadata": {
    "executionInfo": {
     "elapsed": 2337,
     "status": "ok",
     "timestamp": 1706180950836,
     "user": {
      "displayName": "Steve",
      "userId": "13015281013241816762"
     },
     "user_tz": -540
    },
    "id": "PSJ0UQVYOkXc",
    "tags": []
   },
   "outputs": [],
   "source": [
    "# 라이브러리 가져오기\n",
    "import requests\n",
    "import pandas as pd\n",
    "import os\n",
    "import dotenv"
   ]
  },
  {
   "cell_type": "code",
   "execution_count": 4,
   "metadata": {},
   "outputs": [],
   "source": [
    "dotenv.load_dotenv()\n",
    "my_key = os.getenv('KAKAO_RESTFULL_KEY')"
   ]
  },
  {
   "cell_type": "code",
   "execution_count": 5,
   "metadata": {
    "tags": []
   },
   "outputs": [],
   "source": [
    "# Kakao Map API 통해 위도, 경도 데이터 가져오는 함수를 정의\n",
    "def get_geocoding(place):\n",
    "    try:\n",
    "        url = f\"https://dapi.kakao.com/v2/local/search/address\"\n",
    "        headers = {\"Authorization\": f\"KakaoAK {my_key}\"}\n",
    "        params = {\n",
    "            'query' : place\n",
    "        }\n",
    "        response = requests.get(url, headers=headers,params=params)\n",
    "        result = response.json()\n",
    "        if result[\"documents\"]:\n",
    "            return result[\"documents\"][0][\"y\"], result[\"documents\"][0][\"x\"]\n",
    "        else:\n",
    "            return None,None\n",
    "    except:\n",
    "        return None,None"
   ]
  },
  {
   "cell_type": "code",
   "execution_count": 6,
   "metadata": {
    "tags": []
   },
   "outputs": [
    {
     "name": "stdout",
     "output_type": "stream",
     "text": [
      "1 서울특별시 종로구 세종대로 175\n",
      "2 서울특별시 서초구 서초동 700\n",
      "2 서울특별시 서초구 서초동 700\n",
      "3 부산광역시 해운대구 해운대해변로 264\n",
      "3 부산광역시 해운대구 해운대해변로 264\n"
     ]
    },
    {
     "data": {
      "text/html": [
       "<div>\n",
       "<style scoped>\n",
       "    .dataframe tbody tr th:only-of-type {\n",
       "        vertical-align: middle;\n",
       "    }\n",
       "\n",
       "    .dataframe tbody tr th {\n",
       "        vertical-align: top;\n",
       "    }\n",
       "\n",
       "    .dataframe thead th {\n",
       "        text-align: right;\n",
       "    }\n",
       "</style>\n",
       "<table border=\"1\" class=\"dataframe\">\n",
       "  <thead>\n",
       "    <tr style=\"text-align: right;\">\n",
       "      <th></th>\n",
       "      <th>위도</th>\n",
       "      <th>경도</th>\n",
       "    </tr>\n",
       "  </thead>\n",
       "  <tbody>\n",
       "    <tr>\n",
       "      <th>서울특별시 종로구 세종대로 175</th>\n",
       "      <td>37.5718478584908</td>\n",
       "      <td>126.976168275947</td>\n",
       "    </tr>\n",
       "    <tr>\n",
       "      <th>서울특별시 서초구 서초동 700</th>\n",
       "      <td>37.4810862955299</td>\n",
       "      <td>127.015245160054</td>\n",
       "    </tr>\n",
       "    <tr>\n",
       "      <th>부산광역시 해운대구 해운대해변로 264</th>\n",
       "      <td>35.1591069824231</td>\n",
       "      <td>129.160283786856</td>\n",
       "    </tr>\n",
       "  </tbody>\n",
       "</table>\n",
       "</div>"
      ],
      "text/plain": [
       "                                     위도                경도\n",
       "서울특별시 종로구 세종대로 175     37.5718478584908  126.976168275947\n",
       "서울특별시 서초구 서초동 700      37.4810862955299  127.015245160054\n",
       "부산광역시 해운대구 해운대해변로 264  35.1591069824231  129.160283786856"
      ]
     },
     "execution_count": 6,
     "metadata": {},
     "output_type": "execute_result"
    }
   ],
   "source": [
    "lat = []  #위도\n",
    "lng = []  #경도\n",
    "\n",
    "# 장소(주소) 리스트\n",
    "places = [\"서울특별시 종로구 세종대로 175\", \n",
    "          \"서울특별시 서초구 서초동 700\", \n",
    "          \"부산광역시 해운대구 해운대해변로 264\"]\n",
    "\n",
    "i=0\n",
    "for place in places:   \n",
    "    i = i + 1\n",
    "    try:\n",
    "        print(i, place)\n",
    "        # get_geocoding 함수의 리턴값 호출하여 geo_location 변수에 저장\n",
    "        place_lat, place_lon = get_geocoding(place)\n",
    "        lat.append(place_lat)\n",
    "        lng.append(place_lon)\n",
    "        \n",
    "    except:\n",
    "        lat.append('')\n",
    "        lng.append('')\n",
    "\n",
    "# 데이터프레임으로 변환하기\n",
    "df = pd.DataFrame({'위도':lat, '경도':lng}, index=places)\n",
    "\n",
    "df"
   ]
  },
  {
   "cell_type": "code",
   "execution_count": 7,
   "metadata": {
    "tags": []
   },
   "outputs": [
    {
     "data": {
      "text/html": [
       "<div>\n",
       "<style scoped>\n",
       "    .dataframe tbody tr th:only-of-type {\n",
       "        vertical-align: middle;\n",
       "    }\n",
       "\n",
       "    .dataframe tbody tr th {\n",
       "        vertical-align: top;\n",
       "    }\n",
       "\n",
       "    .dataframe thead th {\n",
       "        text-align: right;\n",
       "    }\n",
       "</style>\n",
       "<table border=\"1\" class=\"dataframe\">\n",
       "  <thead>\n",
       "    <tr style=\"text-align: right;\">\n",
       "      <th></th>\n",
       "      <th>상호명</th>\n",
       "      <th>도로명주소</th>\n",
       "    </tr>\n",
       "  </thead>\n",
       "  <tbody>\n",
       "    <tr>\n",
       "      <th>0</th>\n",
       "      <td>하나산부인과</td>\n",
       "      <td>경기도 안산시 단원구 달미로 10</td>\n",
       "    </tr>\n",
       "    <tr>\n",
       "      <th>1</th>\n",
       "      <td>타워광명내과의원</td>\n",
       "      <td>서울특별시 강남구 언주로30길 39</td>\n",
       "    </tr>\n",
       "    <tr>\n",
       "      <th>2</th>\n",
       "      <td>조정현신경외과의원</td>\n",
       "      <td>경기도 시흥시 중심상가로 178</td>\n",
       "    </tr>\n",
       "    <tr>\n",
       "      <th>3</th>\n",
       "      <td>한귀원정신과의원</td>\n",
       "      <td>부산광역시 수영구 수영로 688</td>\n",
       "    </tr>\n",
       "    <tr>\n",
       "      <th>4</th>\n",
       "      <td>더블유스토어수지점</td>\n",
       "      <td>경기도 용인시 수지구 문정로 32</td>\n",
       "    </tr>\n",
       "  </tbody>\n",
       "</table>\n",
       "</div>"
      ],
      "text/plain": [
       "         상호명                도로명주소\n",
       "0     하나산부인과   경기도 안산시 단원구 달미로 10\n",
       "1   타워광명내과의원  서울특별시 강남구 언주로30길 39\n",
       "2  조정현신경외과의원    경기도 시흥시 중심상가로 178\n",
       "3   한귀원정신과의원    부산광역시 수영구 수영로 688\n",
       "4  더블유스토어수지점   경기도 용인시 수지구 문정로 32"
      ]
     },
     "execution_count": 7,
     "metadata": {},
     "output_type": "execute_result"
    }
   ],
   "source": [
    "df = pd.read_csv('https://raw.githubusercontent.com/pia222sk20/python/main/data/sample.csv'\n",
    "                 ,encoding='cp949')\n",
    "df_simple = df.loc[:,['상호명','도로명주소']]\n",
    "df_simple.head()"
   ]
  },
  {
   "cell_type": "code",
   "execution_count": 8,
   "metadata": {},
   "outputs": [
    {
     "data": {
      "text/plain": [
       "RangeIndex(start=0, stop=91335, step=1)"
      ]
     },
     "execution_count": 8,
     "metadata": {},
     "output_type": "execute_result"
    }
   ],
   "source": [
    "#위도 경고를 추가  apply\n",
    "# df_simple['위경도'] = df_simple['도로명주소'].apply(lambda x : get_geocoding(x))\n",
    "df_simple['도로명주소'].index\n"
   ]
  },
  {
   "cell_type": "code",
   "execution_count": 9,
   "metadata": {},
   "outputs": [
    {
     "data": {
      "text/plain": [
       "[58785, 365, 14337, 8134, 56013, 51342, 70632, 90288, 8464, 86621]"
      ]
     },
     "execution_count": 9,
     "metadata": {},
     "output_type": "execute_result"
    }
   ],
   "source": [
    "import random\n",
    "random_index = random.sample(range(91335),50)  # radom_index -> random_index로 수정\n",
    "random_index[:10]"
   ]
  },
  {
   "cell_type": "code",
   "execution_count": 10,
   "metadata": {},
   "outputs": [],
   "source": [
    "df_simple = df_simple.dropna()"
   ]
  },
  {
   "cell_type": "code",
   "execution_count": 11,
   "metadata": {},
   "outputs": [
    {
     "data": {
      "text/plain": [
       "[('37.4109641947715', '127.129259400691'),\n",
       " ('35.496200049285', '128.748385254084'),\n",
       " ('37.5123997269638', '126.703594090796'),\n",
       " ('37.7154845077667', '128.830649970312'),\n",
       " ('37.2921573223499', '127.050652669552'),\n",
       " ('37.3956881776014', '126.645446887038'),\n",
       " ('35.1593255869405', '129.144241981158'),\n",
       " ('37.4004659332759', '127.106812648944'),\n",
       " ('37.4619715724957', '126.879970546974'),\n",
       " ('35.8139175973326', '128.524690381173')]"
      ]
     },
     "execution_count": 11,
     "metadata": {},
     "output_type": "execute_result"
    }
   ],
   "source": [
    "df_simple_50 =  df_simple.iloc[random_index]\n",
    "results = [get_geocoding(addr) for addr in df_simple_50['도로명주소'].values]\n",
    "results[:10]"
   ]
  },
  {
   "cell_type": "code",
   "execution_count": 21,
   "metadata": {},
   "outputs": [],
   "source": [
    "df_simple_50.loc[:,'위도'], df_simple_50.loc[:,'경도'] = zip(*results)"
   ]
  },
  {
   "cell_type": "code",
   "execution_count": 12,
   "metadata": {},
   "outputs": [
    {
     "name": "stdout",
     "output_type": "stream",
     "text": [
      "데이터 샘플 (처음 5개):\n",
      "         상호명                  도로명주소                위도                경도\n",
      "0  분당아이조아한의원   경기도 성남시 분당구 성남대로 912  37.4109641947715  127.129259400691\n",
      "1       제일의원       경상남도 밀양시 노상하4길 4   35.496200049285  128.748385254084\n",
      "2     애나동물병원      인천광역시 부평구 마장로 383  37.5123997269638  126.703594090796\n",
      "3       유명약국     강원도 강릉시 성산면 구산길 59  37.7154845077667  128.830649970312\n",
      "4     광교연세안과  경기도 수원시 영통구 센트럴타운로 98  37.2921573223499  127.050652669552\n"
     ]
    }
   ],
   "source": [
    "# 랜덤으로 선택된 50개의 데이터 추출\n",
    "df_simple_50 = df_simple.iloc[random_index]\n",
    "\n",
    "# 위도, 경도 데이터 가져오기\n",
    "results = []\n",
    "for addr in df_simple_50['도로명주소'].values:\n",
    "    if pd.notna(addr):  # 주소가 None이 아닌 경우만 처리\n",
    "        result = get_geocoding(addr)\n",
    "        results.append(result)\n",
    "    else:\n",
    "        results.append((None, None))\n",
    "\n",
    "# 위도, 경도 데이터를 DataFrame에 추가\n",
    "lat_lng = pd.DataFrame(results, columns=['위도', '경도'])\n",
    "df_simple_50 = df_simple_50.reset_index(drop=True)  # 인덱스 초기화\n",
    "df_simple_50['위도'] = lat_lng['위도']\n",
    "df_simple_50['경도'] = lat_lng['경도']\n",
    "\n",
    "# 결과 확인\n",
    "print(\"데이터 샘플 (처음 5개):\")\n",
    "print(df_simple_50[['상호명', '도로명주소', '위도', '경도']].head())"
   ]
  },
  {
   "cell_type": "code",
   "execution_count": 13,
   "metadata": {},
   "outputs": [
    {
     "data": {
      "text/plain": [
       "[('37.4109641947715', '127.129259400691'),\n",
       " ('35.496200049285', '128.748385254084'),\n",
       " ('37.5123997269638', '126.703594090796'),\n",
       " ('37.7154845077667', '128.830649970312'),\n",
       " ('37.2921573223499', '127.050652669552'),\n",
       " ('37.3956881776014', '126.645446887038'),\n",
       " ('35.1593255869405', '129.144241981158'),\n",
       " ('37.4004659332759', '127.106812648944'),\n",
       " ('37.4619715724957', '126.879970546974'),\n",
       " ('35.8139175973326', '128.524690381173')]"
      ]
     },
     "execution_count": 13,
     "metadata": {},
     "output_type": "execute_result"
    }
   ],
   "source": [
    "df_simple_1000= df_simple.iloc[random_index]\n",
    "results = [get_geocoding(addr) for addr in df_simple_50['도로명주소'].values]\n",
    "results[:10]"
   ]
  },
  {
   "cell_type": "code",
   "execution_count": 14,
   "metadata": {},
   "outputs": [
    {
     "data": {
      "text/html": [
       "<div>\n",
       "<style scoped>\n",
       "    .dataframe tbody tr th:only-of-type {\n",
       "        vertical-align: middle;\n",
       "    }\n",
       "\n",
       "    .dataframe tbody tr th {\n",
       "        vertical-align: top;\n",
       "    }\n",
       "\n",
       "    .dataframe thead th {\n",
       "        text-align: right;\n",
       "    }\n",
       "</style>\n",
       "<table border=\"1\" class=\"dataframe\">\n",
       "  <thead>\n",
       "    <tr style=\"text-align: right;\">\n",
       "      <th></th>\n",
       "      <th>상호명</th>\n",
       "      <th>도로명주소</th>\n",
       "      <th>위도</th>\n",
       "      <th>경도</th>\n",
       "    </tr>\n",
       "  </thead>\n",
       "  <tbody>\n",
       "    <tr>\n",
       "      <th>0</th>\n",
       "      <td>분당아이조아한의원</td>\n",
       "      <td>경기도 성남시 분당구 성남대로 912</td>\n",
       "      <td>37.4109641947715</td>\n",
       "      <td>127.129259400691</td>\n",
       "    </tr>\n",
       "    <tr>\n",
       "      <th>1</th>\n",
       "      <td>제일의원</td>\n",
       "      <td>경상남도 밀양시 노상하4길 4</td>\n",
       "      <td>35.496200049285</td>\n",
       "      <td>128.748385254084</td>\n",
       "    </tr>\n",
       "    <tr>\n",
       "      <th>2</th>\n",
       "      <td>애나동물병원</td>\n",
       "      <td>인천광역시 부평구 마장로 383</td>\n",
       "      <td>37.5123997269638</td>\n",
       "      <td>126.703594090796</td>\n",
       "    </tr>\n",
       "    <tr>\n",
       "      <th>3</th>\n",
       "      <td>유명약국</td>\n",
       "      <td>강원도 강릉시 성산면 구산길 59</td>\n",
       "      <td>37.7154845077667</td>\n",
       "      <td>128.830649970312</td>\n",
       "    </tr>\n",
       "    <tr>\n",
       "      <th>4</th>\n",
       "      <td>광교연세안과</td>\n",
       "      <td>경기도 수원시 영통구 센트럴타운로 98</td>\n",
       "      <td>37.2921573223499</td>\n",
       "      <td>127.050652669552</td>\n",
       "    </tr>\n",
       "  </tbody>\n",
       "</table>\n",
       "</div>"
      ],
      "text/plain": [
       "         상호명                  도로명주소                위도                경도\n",
       "0  분당아이조아한의원   경기도 성남시 분당구 성남대로 912  37.4109641947715  127.129259400691\n",
       "1       제일의원       경상남도 밀양시 노상하4길 4   35.496200049285  128.748385254084\n",
       "2     애나동물병원      인천광역시 부평구 마장로 383  37.5123997269638  126.703594090796\n",
       "3       유명약국     강원도 강릉시 성산면 구산길 59  37.7154845077667  128.830649970312\n",
       "4     광교연세안과  경기도 수원시 영통구 센트럴타운로 98  37.2921573223499  127.050652669552"
      ]
     },
     "execution_count": 14,
     "metadata": {},
     "output_type": "execute_result"
    }
   ],
   "source": [
    "df_simple_50.head()"
   ]
  },
  {
   "cell_type": "code",
   "execution_count": 15,
   "metadata": {},
   "outputs": [
    {
     "name": "stdout",
     "output_type": "stream",
     "text": [
      "Requirement already satisfied: folium in c:\\python_src\\rawon.venv\\lib\\site-packages (0.20.0)\n",
      "Requirement already satisfied: branca>=0.6.0 in c:\\python_src\\rawon.venv\\lib\\site-packages (from folium) (0.8.1)\n",
      "Requirement already satisfied: jinja2>=2.9 in c:\\python_src\\rawon.venv\\lib\\site-packages (from folium) (3.1.6)\n",
      "Requirement already satisfied: numpy in c:\\python_src\\rawon.venv\\lib\\site-packages (from folium) (2.3.3)\n",
      "Requirement already satisfied: requests in c:\\python_src\\rawon.venv\\lib\\site-packages (from folium) (2.32.5)\n",
      "Requirement already satisfied: xyzservices in c:\\python_src\\rawon.venv\\lib\\site-packages (from folium) (2025.4.0)\n",
      "Requirement already satisfied: MarkupSafe>=2.0 in c:\\python_src\\rawon.venv\\lib\\site-packages (from jinja2>=2.9->folium) (3.0.2)\n",
      "Requirement already satisfied: charset_normalizer<4,>=2 in c:\\python_src\\rawon.venv\\lib\\site-packages (from requests->folium) (3.4.3)\n",
      "Requirement already satisfied: idna<4,>=2.5 in c:\\python_src\\rawon.venv\\lib\\site-packages (from requests->folium) (3.10)\n",
      "Requirement already satisfied: urllib3<3,>=1.21.1 in c:\\python_src\\rawon.venv\\lib\\site-packages (from requests->folium) (2.5.0)\n",
      "Requirement already satisfied: certifi>=2017.4.17 in c:\\python_src\\rawon.venv\\lib\\site-packages (from requests->folium) (2025.8.3)\n",
      "Note: you may need to restart the kernel to use updated packages.\n"
     ]
    }
   ],
   "source": [
    "%pip install folium"
   ]
  },
  {
   "cell_type": "code",
   "execution_count": 16,
   "metadata": {},
   "outputs": [
    {
     "name": "stdout",
     "output_type": "stream",
     "text": [
      "컬럼명: 상호명\n",
      "컬럼명: 도로명주소\n",
      "컬럼명: 위도\n",
      "컬럼명: 경도\n",
      "\n",
      "처음 5개 데이터의 모든 정보:\n",
      "         상호명                  도로명주소                위도                경도\n",
      "0  분당아이조아한의원   경기도 성남시 분당구 성남대로 912  37.4109641947715  127.129259400691\n",
      "1       제일의원       경상남도 밀양시 노상하4길 4   35.496200049285  128.748385254084\n",
      "2     애나동물병원      인천광역시 부평구 마장로 383  37.5123997269638  126.703594090796\n",
      "3       유명약국     강원도 강릉시 성산면 구산길 59  37.7154845077667  128.830649970312\n",
      "4     광교연세안과  경기도 수원시 영통구 센트럴타운로 98  37.2921573223499  127.050652669552\n"
     ]
    }
   ],
   "source": [
    "# 모든 컬럼 출력 확인\n",
    "for i in df_simple_50:\n",
    "    print(f\"컬럼명: {i}\")\n",
    "\n",
    "print(\"\\n처음 5개 데이터의 모든 정보:\")\n",
    "print(df_simple_50.head())"
   ]
  },
  {
   "cell_type": "code",
   "execution_count": 17,
   "metadata": {},
   "outputs": [
    {
     "name": "stdout",
     "output_type": "stream",
     "text": [
      "0 37.4109641947715 127.129259400691\n"
     ]
    }
   ],
   "source": [
    "for idx, row in df_simple_50.iterrows():\n",
    "    print(idx, row['위도'], row['경도'])\n",
    "    break"
   ]
  },
  {
   "cell_type": "code",
   "execution_count": 18,
   "metadata": {},
   "outputs": [
    {
     "name": "stdout",
     "output_type": "stream",
     "text": [
      "0 37.4109641947715 127.129259400691\n",
      "1 35.496200049285 128.748385254084\n",
      "2 37.5123997269638 126.703594090796\n",
      "3 37.7154845077667 128.830649970312\n",
      "4 37.2921573223499 127.050652669552\n",
      "5 37.3956881776014 126.645446887038\n",
      "6 35.1593255869405 129.144241981158\n",
      "7 37.4004659332759 127.106812648944\n",
      "8 37.4619715724957 126.879970546974\n",
      "9 35.8139175973326 128.524690381173\n",
      "10 37.4968946341351 127.14994730411\n",
      "11 37.4988301355807 127.059558169501\n",
      "12 37.3082616940569 126.85202762807\n",
      "13 37.5067411635893 127.005520174535\n",
      "14 34.999290659807 126.709947054752\n",
      "15 35.5435402133644 129.309543930585\n",
      "16 37.4151399550011 126.677813880127\n",
      "17 36.8617475651202 127.444835310721\n",
      "18 37.37056133067 127.107511843851\n",
      "19 35.5470632424327 129.309686897918\n",
      "20 37.4716932381309 126.631818357765\n",
      "21 37.5668276642327 126.963975289329\n",
      "22 35.9290959010644 126.959442660367\n",
      "23 35.8411382714422 127.131588969832\n",
      "24 36.3212144016661 127.393531434484\n",
      "25 35.1287004284271 128.972490130663\n",
      "26 37.3070818396581 126.850134449613\n",
      "27 37.4960658585364 126.72218521194\n",
      "28 37.2932984626109 126.864439439801\n",
      "29 35.172510843667 126.9241773857\n",
      "30 37.6233056206895 126.836527841613\n",
      "31 34.8082876378331 126.428950617568\n",
      "32 36.627869216125 127.49134067923\n",
      "33 37.3964799078703 127.111495214796\n",
      "34 35.1818608825599 126.817321662288\n",
      "35 37.4867009567317 126.913354117853\n",
      "36 37.4589530643952 126.675461192591\n",
      "37 34.9479044075932 127.528857615503\n",
      "38 33.4848372184625 126.479605628771\n",
      "39 35.8471760704959 128.590779520543\n",
      "40 36.3990493166311 127.404573055198\n",
      "41 37.4774028105387 126.961481858172\n",
      "42 37.5056241995223 127.055229647611\n",
      "43 35.2213618640482 129.080897964084\n",
      "44 36.0944017293155 128.355322474958\n",
      "45 37.4610494075959 126.721649289794\n",
      "46 35.5316387760755 129.309784096537\n",
      "47 37.5524339233654 126.95422378666\n",
      "48 37.4436078952649 126.701589427877\n",
      "49 35.2326013140463 128.503479864851\n"
     ]
    }
   ],
   "source": [
    "import folium\n",
    "\n",
    "m = folium.Map(location=(35.8425738690814, 127.140054344904))  # 최초지도 로드할때. 중심좌표\n",
    "for idx, row in df_simple_50.iterrows():\n",
    "    print(idx, row['위도'], row['경도'])\n",
    "folium.Marker(\n",
    "    location=[35.8425738690814, 127.140054344904],\n",
    "    popup='고려마취통증의학과의원',\n",
    "    tooltip='병원'\n",
    ").add_to(m)\n",
    "\n",
    "folium.Marker(\n",
    "    location=[37.8687445127498,\t127.714867915848],\n",
    "    popup='백세약국',\n",
    "    tooltip='약국'\n",
    ").add_to(m)\n",
    "\n",
    "\n",
    "m.save('map.html')\n"
   ]
  },
  {
   "cell_type": "code",
   "execution_count": 19,
   "metadata": {},
   "outputs": [
    {
     "name": "stdout",
     "output_type": "stream",
     "text": [
      "1\n",
      "1\n",
      "1\n",
      "1\n"
     ]
    }
   ],
   "source": [
    "for i in df_simple_50:\n",
    "    print(1)"
   ]
  },
  {
   "cell_type": "code",
   "execution_count": 22,
   "metadata": {},
   "outputs": [
    {
     "data": {
      "text/plain": [
       "True"
      ]
     },
     "execution_count": 22,
     "metadata": {},
     "output_type": "execute_result"
    }
   ],
   "source": [
    "import folium\n",
    "\n",
    "# 서울 중심 좌표로 지도 생성\n",
    "m = folium.Map(location=[37.5665, 126.9780], zoom_start=7)\n",
    "\n",
    "# df_simple_50의 각 위치에 마커 추가\n",
    "for idx, row in df_simple_50.iterrows():\n",
    "    if pd.notna(row['위도']) and pd.notna(row['경도']):  # None 값 체크\n",
    "        folium.Marker(\n",
    "            location=[float(row['위도']), float(row['경도'])],\n",
    "            popup=row['상호명'],\n",
    "            tooltip=row['도로명주소']\n",
    "        ).add_to(m)\n",
    "\n",
    "# 지도 저장\n",
    "m.save('map.html')\n",
    "\n",
    "# 지도 파일 열기\n",
    "import webbrowser\n",
    "webbrowser.open('map.html')"
   ]
  }
 ],
 "metadata": {
  "colab": {
   "authorship_tag": "ABX9TyMmPDgPDlEQ9VJpxhthoipr",
   "provenance": []
  },
  "kernelspec": {
   "display_name": "rawon.venv (3.13.2)",
   "language": "python",
   "name": "python3"
  },
  "language_info": {
   "codemirror_mode": {
    "name": "ipython",
    "version": 3
   },
   "file_extension": ".py",
   "mimetype": "text/x-python",
   "name": "python",
   "nbconvert_exporter": "python",
   "pygments_lexer": "ipython3",
   "version": "3.13.2"
  }
 },
 "nbformat": 4,
 "nbformat_minor": 4
}
