{
 "cells": [
  {
   "cell_type": "code",
   "execution_count": 3,
   "id": "c7c0cf4e",
   "metadata": {},
   "outputs": [],
   "source": [
    "import seaborn as sns\n",
    "import pandas as pd\n"
   ]
  },
  {
   "cell_type": "code",
   "execution_count": 4,
   "id": "b17e983b",
   "metadata": {},
   "outputs": [
    {
     "data": {
      "text/html": [
       "<div>\n",
       "<style scoped>\n",
       "    .dataframe tbody tr th:only-of-type {\n",
       "        vertical-align: middle;\n",
       "    }\n",
       "\n",
       "    .dataframe tbody tr th {\n",
       "        vertical-align: top;\n",
       "    }\n",
       "\n",
       "    .dataframe thead th {\n",
       "        text-align: right;\n",
       "    }\n",
       "</style>\n",
       "<table border=\"1\" class=\"dataframe\">\n",
       "  <thead>\n",
       "    <tr style=\"text-align: right;\">\n",
       "      <th></th>\n",
       "      <th>mpg</th>\n",
       "      <th>cylinders</th>\n",
       "      <th>displacement</th>\n",
       "      <th>horsepower</th>\n",
       "      <th>weight</th>\n",
       "      <th>acceleration</th>\n",
       "      <th>model_year</th>\n",
       "      <th>origin</th>\n",
       "      <th>name</th>\n",
       "    </tr>\n",
       "  </thead>\n",
       "  <tbody>\n",
       "    <tr>\n",
       "      <th>0</th>\n",
       "      <td>18.0</td>\n",
       "      <td>8</td>\n",
       "      <td>307.0</td>\n",
       "      <td>130.0</td>\n",
       "      <td>3504</td>\n",
       "      <td>12.0</td>\n",
       "      <td>70</td>\n",
       "      <td>usa</td>\n",
       "      <td>chevrolet chevelle malibu</td>\n",
       "    </tr>\n",
       "    <tr>\n",
       "      <th>1</th>\n",
       "      <td>15.0</td>\n",
       "      <td>8</td>\n",
       "      <td>350.0</td>\n",
       "      <td>165.0</td>\n",
       "      <td>3693</td>\n",
       "      <td>11.5</td>\n",
       "      <td>70</td>\n",
       "      <td>usa</td>\n",
       "      <td>buick skylark 320</td>\n",
       "    </tr>\n",
       "    <tr>\n",
       "      <th>2</th>\n",
       "      <td>18.0</td>\n",
       "      <td>8</td>\n",
       "      <td>318.0</td>\n",
       "      <td>150.0</td>\n",
       "      <td>3436</td>\n",
       "      <td>11.0</td>\n",
       "      <td>70</td>\n",
       "      <td>usa</td>\n",
       "      <td>plymouth satellite</td>\n",
       "    </tr>\n",
       "  </tbody>\n",
       "</table>\n",
       "</div>"
      ],
      "text/plain": [
       "    mpg  cylinders  displacement  horsepower  weight  acceleration  \\\n",
       "0  18.0          8         307.0       130.0    3504          12.0   \n",
       "1  15.0          8         350.0       165.0    3693          11.5   \n",
       "2  18.0          8         318.0       150.0    3436          11.0   \n",
       "\n",
       "   model_year origin                       name  \n",
       "0          70    usa  chevrolet chevelle malibu  \n",
       "1          70    usa          buick skylark 320  \n",
       "2          70    usa         plymouth satellite  "
      ]
     },
     "execution_count": 4,
     "metadata": {},
     "output_type": "execute_result"
    }
   ],
   "source": [
    "mpg = sns.load_dataset('mpg')\n",
    "mpg.head(3)"
   ]
  },
  {
   "cell_type": "code",
   "execution_count": 7,
   "id": "5c311758",
   "metadata": {},
   "outputs": [
    {
     "name": "stdout",
     "output_type": "stream",
     "text": [
      "cylinders\n",
      "3     99.250000\n",
      "4     78.281407\n",
      "5     82.333333\n",
      "6    101.506024\n",
      "8    158.300971\n",
      "Name: horsepower, dtype: float64\n",
      "name\n",
      "amc ambassador brougham    73.0\n",
      "amc ambassador dpl         70.0\n",
      "amc ambassador sst         72.0\n",
      "amc concord                79.0\n",
      "amc concord d/l            78.0\n",
      "                           ... \n",
      "vw dasher (diesel)         80.0\n",
      "vw pickup                  82.0\n",
      "vw rabbit                  78.0\n",
      "vw rabbit c (diesel)       80.0\n",
      "vw rabbit custom           79.0\n",
      "Name: model_year, Length: 305, dtype: float64\n",
      "         mpg  cylinders  displacement  horsepower  weight\n",
      "origin                                                   \n",
      "usa     18.0          8         307.0       130.0    3504\n",
      "usa     15.0          8         350.0       165.0    3693\n",
      "usa     18.0          8         318.0       150.0    3436\n",
      "         mpg  horsepower\n",
      "origin                  \n",
      "usa     18.0       130.0\n",
      "usa     15.0       165.0\n",
      "usa     18.0       150.0\n"
     ]
    }
   ],
   "source": [
    "# groupby - cylinders별 마력의 평균\n",
    "        #  name 별 연식의 평균\n",
    "        # name이 공백을 기준으로 제조사[0] - 모델\n",
    "        # 제조사 컬럼을 만들고 제조사를 추가\n",
    "# 필터  - mpg 15이상인 모델\n",
    "# index를 재 구성 - origin\n",
    "# iloc, loc를 이용해서 데이터를 row, col 다양하게 출력\n",
    "\n",
    "import seaborn as sns\n",
    "import pandas as pd\n",
    "\n",
    "# 데이터 불러오기\n",
    "mpg = sns.load_dataset(\"mpg\")\n",
    "\n",
    "# 1. cylinders별 마력 평균\n",
    "print(mpg.groupby(\"cylinders\")[\"horsepower\"].mean())\n",
    "\n",
    "# 2. name별 연식 평균\n",
    "print(mpg.groupby(\"name\")[\"model_year\"].mean())\n",
    "\n",
    "# 3. 제조사 컬럼 만들기\n",
    "mpg[\"manufacturer\"] = mpg[\"name\"].str.split().str[0]\n",
    "\n",
    "# 4. mpg 15 이상인 모델만 필터링\n",
    "mpg_filtered = mpg[mpg[\"mpg\"] >= 15]\n",
    "\n",
    "# 5. 인덱스를 origin으로 재구성\n",
    "mpg_reindexed = mpg_filtered.set_index(\"origin\")\n",
    "\n",
    "# 6. iloc, loc 사용\n",
    "print(mpg_reindexed.iloc[:3, :5])  # 위치 기준\n",
    "print(mpg_reindexed.loc[\"usa\", [\"mpg\", \"horsepower\"]].head(3))  # 라벨 기준\n"
   ]
  },
  {
   "cell_type": "code",
   "execution_count": 6,
   "id": "c9ce1c77",
   "metadata": {},
   "outputs": [
    {
     "data": {
      "text/plain": [
       "['abc', 'a', 'b', 'c']"
      ]
     },
     "execution_count": 6,
     "metadata": {},
     "output_type": "execute_result"
    }
   ],
   "source": [
    "\"abc a b c\".split()\n"
   ]
  },
  {
   "cell_type": "code",
   "execution_count": 8,
   "id": "be416b8d",
   "metadata": {},
   "outputs": [
    {
     "ename": "KeyError",
     "evalue": "\"None of ['make'] are in the columns\"",
     "output_type": "error",
     "traceback": [
      "\u001b[31m---------------------------------------------------------------------------\u001b[39m",
      "\u001b[31mKeyError\u001b[39m                                  Traceback (most recent call last)",
      "\u001b[36mCell\u001b[39m\u001b[36m \u001b[39m\u001b[32mIn[8]\u001b[39m\u001b[32m, line 1\u001b[39m\n\u001b[32m----> \u001b[39m\u001b[32m1\u001b[39m \u001b[43mmpg\u001b[49m\u001b[43m.\u001b[49m\u001b[43mset_index\u001b[49m\u001b[43m(\u001b[49m\u001b[33;43m'\u001b[39;49m\u001b[33;43mmake\u001b[39;49m\u001b[33;43m'\u001b[39;49m\u001b[43m)\u001b[49m\n",
      "\u001b[36mFile \u001b[39m\u001b[32mc:\\PYTHON_SRC\\rawon.venv\\Lib\\site-packages\\pandas\\core\\frame.py:6129\u001b[39m, in \u001b[36mDataFrame.set_index\u001b[39m\u001b[34m(self, keys, drop, append, inplace, verify_integrity)\u001b[39m\n\u001b[32m   6126\u001b[39m                 missing.append(col)\n\u001b[32m   6128\u001b[39m \u001b[38;5;28;01mif\u001b[39;00m missing:\n\u001b[32m-> \u001b[39m\u001b[32m6129\u001b[39m     \u001b[38;5;28;01mraise\u001b[39;00m \u001b[38;5;167;01mKeyError\u001b[39;00m(\u001b[33mf\u001b[39m\u001b[33m\"\u001b[39m\u001b[33mNone of \u001b[39m\u001b[38;5;132;01m{\u001b[39;00mmissing\u001b[38;5;132;01m}\u001b[39;00m\u001b[33m are in the columns\u001b[39m\u001b[33m\"\u001b[39m)\n\u001b[32m   6131\u001b[39m \u001b[38;5;28;01mif\u001b[39;00m inplace:\n\u001b[32m   6132\u001b[39m     frame = \u001b[38;5;28mself\u001b[39m\n",
      "\u001b[31mKeyError\u001b[39m: \"None of ['make'] are in the columns\""
     ]
    }
   ],
   "source": [
    "mpg.set_index('make')"
   ]
  }
 ],
 "metadata": {
  "kernelspec": {
   "display_name": "rawon.venv (3.13.2)",
   "language": "python",
   "name": "python3"
  },
  "language_info": {
   "codemirror_mode": {
    "name": "ipython",
    "version": 3
   },
   "file_extension": ".py",
   "mimetype": "text/x-python",
   "name": "python",
   "nbconvert_exporter": "python",
   "pygments_lexer": "ipython3",
   "version": "3.13.2"
  }
 },
 "nbformat": 4,
 "nbformat_minor": 5
}
